{
 "cells": [
  {
   "cell_type": "markdown",
   "metadata": {},
   "source": [
    "### Imports"
   ]
  },
  {
   "cell_type": "code",
   "execution_count": 1,
   "metadata": {},
   "outputs": [],
   "source": [
    "import os\n",
    "import time\n",
    "import sqlite3\n",
    "import pandas as pd\n",
    "import numpy as np\n",
    "from scipy.sparse import csr_matrix\n",
    "import matplotlib.pyplot as plt\n",
    "from implicit.bpr import BayesianPersonalizedRanking"
   ]
  },
  {
   "cell_type": "markdown",
   "metadata": {},
   "source": [
    "### Generalization Variables"
   ]
  },
  {
   "cell_type": "code",
   "execution_count": 2,
   "metadata": {},
   "outputs": [],
   "source": [
    "reviewer_id = 'reviewerID'\n",
    "hotel_id = 'hotelID'\n",
    "rating = 'rating'\n",
    "category = 'categories'\n",
    "delimitter = ','\n",
    "best_n = 10"
   ]
  },
  {
   "cell_type": "markdown",
   "metadata": {},
   "source": [
    "### Connecting to the database"
   ]
  },
  {
   "cell_type": "code",
   "execution_count": 3,
   "metadata": {},
   "outputs": [],
   "source": [
    "connection = sqlite3.connect(\"E:\\All Docs\\Masters\\CS 579 Online Social Network Analysis\\Project 2\\Recommendation Systems\\Data\\yelpHotelData.db\")"
   ]
  },
  {
   "cell_type": "markdown",
   "metadata": {},
   "source": [
    "### Functions"
   ]
  },
  {
   "cell_type": "code",
   "execution_count": 4,
   "metadata": {},
   "outputs": [],
   "source": [
    "# Returns the names of the tables in the database\n",
    "# Takes connection to the database as parameter\n",
    "def show_tables_in_database(connection):\n",
    "    cursor = connection.cursor()\n",
    "    cursor.execute(\"SELECT name FROM sqlite_master WHERE type='table';\")\n",
    "    return cursor.fetchall()\n",
    "\n",
    "\n",
    "# Creates Hotel Map with the hotel class and its values\n",
    "def create_hotel_map(data, hotel_column, category_column):\n",
    "    hotel_mapping = {}\n",
    "    for row in data.itertuples():\n",
    "        temp_hotel = getattr(row, hotel_column)\n",
    "        temp_category = getattr(row, category_column)\n",
    "        category_split = temp_category.split(delimitter)\n",
    "        category_ratio_value = 1. / len(category_split)\n",
    "        category_ratio = {category: category_ratio_value for category in category_split}\n",
    "        hotel = Hotel(temp_hotel, category_ratio)\n",
    "        hotel_mapping[temp_hotel] = hotel\n",
    "    return hotel_mapping\n",
    "\n",
    "\n",
    "# Converts reviewer and hotel columns into categories datatype\n",
    "def convert_user_and_item_to_category_inplace(df, reviewer_col, hotel_col):\n",
    "    for col in (reviewer_col, hotel_col):\n",
    "        df[col] = df[col].astype('category')\n",
    "    return df\n",
    "\n",
    "\n",
    "# Creates Reviewer Index map and Hotel index map\n",
    "def reviewer_hotel_index_mapping(df, reviewer_col, hotel_col):\n",
    "    return df[reviewer_col].cat.categories, df[hotel_col].cat.categories\n",
    "\n",
    "\n",
    "# Creates CSR Matrix for Reviewer and Hotel\n",
    "def reviewer_hotel_csr_matrix(df, reviewer_col, hotel_col, rating_column):\n",
    "    rows = df[reviewer_col].cat.codes\n",
    "    cols = df[hotel_col].cat.codes\n",
    "    values = df[rating_column].astype(np.float32)\n",
    "    return csr_matrix((values, (rows, cols)))\n",
    "\n",
    "\n",
    "# Calculates Recommendations using bpr\n",
    "def recommendations(reviewer_id, sparse_matrix, hotel_mapping, hotel_index_map, top_n):\n",
    "    hotels_visited_id = sparse_matrix[reviewer_id].nonzero()[1]\n",
    "    hotels_visited = [hotel_mapping[hotel_index_map[index]] for index in hotels_visited_id]\n",
    "    hotel_recommendations_id = bpr.recommend(reviewer_id, sparse_matrix, N=top_n)\n",
    "    hotel_recommendations = [hotel_mapping[hotel_index_map[index]] for index, _ in hotel_recommendations_id]\n",
    "    return hotels_visited_id, hotels_visited, hotel_recommendations_id, hotel_recommendations\n",
    "\n",
    "# Takes a list of hotel class instances and returns normalized weights of each category\n",
    "def category_weights(hotels):\n",
    "    weight = {}\n",
    "    for hotel in hotels:\n",
    "        for category, score in hotel.category.items():\n",
    "            score1 = weight.get(category, 0)\n",
    "            weight[category] = score1 + score\n",
    "    total_weight = sum(weight.values())\n",
    "    for hotel, category_score in weight.items():\n",
    "        normalized_category_score = round(category_score / total_weight, 3)\n",
    "        weight[hotel] = normalized_category_score\n",
    "    return weight\n",
    "\n",
    "\n",
    "# Calculates KL Divergence taking visited category weights and recommended category weights\n",
    "def kl_divergence(hotels_visited_weights, hotel_recommendations_weights, alpha=0.01):\n",
    "    kl_div = 0.\n",
    "    for category, score in hotels_visited_weights.items():\n",
    "        recommendation_score = hotel_recommendations_weights.get(category, 0.)\n",
    "        recommendation_score = (1 - alpha) * recommendation_score + alpha * score\n",
    "        kl_div += score * np.log2(score / recommendation_score)\n",
    "    return kl_div\n",
    "\n",
    "\n",
    "# Creates a list of hotel instances which are not visited by the user\n",
    "def create_hotel_list(model, reviewer_id, sparse_matrix, hotel_mapping, hotel_index_map, visited_hotels_counter=True):\n",
    "    number_of_hotels = sparse_matrix.shape[1]\n",
    "    user_factor = model.user_factors[reviewer_id]\n",
    "    scores = model.item_factors.dot(user_factor)\n",
    "    visited = set()\n",
    "    if visited_hotels_counter:\n",
    "        visited = set(sparse_matrix[reviewer_id].indices)\n",
    "    hotel_ids = set(np.arange(number_of_hotels))\n",
    "    hotel_ids -= visited\n",
    "    hotels = []\n",
    "    for hotel_id in hotel_ids:\n",
    "        hotel = hotel_mapping[hotel_index_map[hotel_id]]\n",
    "        hotel.score = scores[hotel_id]\n",
    "        hotels.append(hotel)\n",
    "    return hotels\n",
    "\n",
    "# Calculates utility for the recommended hotles category weights based on the visited hotel category weights\n",
    "def calculate_utility(recommended_hotels, visited_hotel_distribution, lmbda=0.5, alpha=0.01):\n",
    "    recommended_hotel_distribution = category_weights(recommended_hotels)\n",
    "    divergence = kl_divergence(visited_hotel_distribution, recommended_hotel_distribution, alpha)\n",
    "\n",
    "    total_score = 0.0\n",
    "    for hotel in recommended_hotels:\n",
    "        total_score += hotel.score\n",
    "    utility = (1 - lmbda) * total_score - lmbda * divergence\n",
    "    return utility\n",
    "\n",
    "# Calculates the recommendation list based on the best utility values\n",
    "def recommendation_caliberated(hotels, visited_hotel_distribution, best_n, lmbda=0.5, alpha=0.01):\n",
    "    caliberated_recommendation_list = []\n",
    "    for i in range(best_n):\n",
    "        maximum_utility = -np.inf\n",
    "        for hotel in hotels:\n",
    "            if hotel in caliberated_recommendation_list:\n",
    "                continue\n",
    "\n",
    "            utility = calculate_utility(caliberated_recommendation_list + [hotel], visited_hotel_distribution, lmbda, alpha)\n",
    "            if utility > maximum_utility:\n",
    "                maximum_utility = utility\n",
    "                best_hotel = hotel\n",
    "\n",
    "        caliberated_recommendation_list.append(best_hotel)\n",
    "        \n",
    "    return caliberated_recommendation_list\n",
    "\n",
    "# Takes two lists for alpha and lambda parameters and finds kl divergence and \n",
    "# creates a recommendation instace to store the values\n",
    "def parameter_tuning(alpha_list, lambda_list):\n",
    "    parameter_tuning_dict = {}\n",
    "    for i in lambda_list:\n",
    "        for j in alpha_list:\n",
    "            start = time.time()\n",
    "            caliberated_recommendation_hotels = recommendation_caliberated(hotels, hotels_visited_weights, \n",
    "                                                                           best_n, lmbda=i, alpha=j)\n",
    "            elapsed = time.time() - start\n",
    "            caliberated_recommendation_hotels_distribution = category_weights(caliberated_recommendation_hotels)\n",
    "            caliberated_recommendation_hotels_divergence = kl_divergence(hotels_visited_weights, \n",
    "                                                                         caliberated_recommendation_hotels_distribution)\n",
    "            recom = recommendation(j, i, caliberated_recommendation_hotels_divergence, \n",
    "                                   caliberated_recommendation_hotels, elapsed)\n",
    "            temp = str(j) + '_' + str(i)\n",
    "            parameter_tuning_dict[temp] = recom\n",
    "    return parameter_tuning_dict\n",
    "\n",
    "\n"
   ]
  },
  {
   "cell_type": "markdown",
   "metadata": {},
   "source": [
    "### Classes to store values"
   ]
  },
  {
   "cell_type": "code",
   "execution_count": 5,
   "metadata": {},
   "outputs": [],
   "source": [
    "# Hotel Class for storing Hotel details\n",
    "class Hotel:\n",
    "    def __init__(self, _id, category, score=None):\n",
    "        # Hotel id\n",
    "        self.id = _id\n",
    "        # genres is a dictionary that holds the categories and the weight of the particular category\n",
    "        self.category = category\n",
    "        # the score given by the recommendation algorithm. As of now giving default value as none.\n",
    "        self.score = score\n",
    "        \n",
    "    def __repr__(self):\n",
    "        return self.id\n",
    "\n",
    "\n",
    "# Recommendation class for storing the recommendation details\n",
    "class recommendation:\n",
    "    def __init__(self, alpha, lmbda, kl_divergence, recommendations, time):\n",
    "        self.alpha = alpha\n",
    "        self.lmbda = lmbda\n",
    "        self.kl_divergence = kl_divergence\n",
    "        if recommendations:\n",
    "            self.recommendations = recommendations\n",
    "        else:\n",
    "            self.recommendations = []\n",
    "        self.time = time\n",
    "    def __repr__(self):\n",
    "        return f\"alpha : {self.alpha}, lmbda : {self.lmbda}, kl divergence : {self.kl_divergence}\" "
   ]
  },
  {
   "cell_type": "markdown",
   "metadata": {},
   "source": [
    "## Data Preprocessing"
   ]
  },
  {
   "cell_type": "code",
   "execution_count": 6,
   "metadata": {},
   "outputs": [
    {
     "data": {
      "text/plain": [
       "[('review',), ('sqlite_stat1',), ('sqlite_stat2',), ('reviewer',), ('hotel',)]"
      ]
     },
     "execution_count": 6,
     "metadata": {},
     "output_type": "execute_result"
    }
   ],
   "source": [
    "# Finding the table names in the database\n",
    "show_tables_in_database(connection)"
   ]
  },
  {
   "cell_type": "code",
   "execution_count": 7,
   "metadata": {},
   "outputs": [],
   "source": [
    "# Ignoring Errors\n",
    "connection.text_factory = lambda b: b.decode(errors = 'ignore')"
   ]
  },
  {
   "cell_type": "markdown",
   "metadata": {},
   "source": [
    "### Getting the data ready"
   ]
  },
  {
   "cell_type": "code",
   "execution_count": 8,
   "metadata": {},
   "outputs": [],
   "source": [
    "# Taking review table to a dataframe\n",
    "review_df = pd.read_sql_query(\"Select * from review\", connection)"
   ]
  },
  {
   "cell_type": "code",
   "execution_count": 9,
   "metadata": {},
   "outputs": [
    {
     "data": {
      "text/html": [
       "<div>\n",
       "<style scoped>\n",
       "    .dataframe tbody tr th:only-of-type {\n",
       "        vertical-align: middle;\n",
       "    }\n",
       "\n",
       "    .dataframe tbody tr th {\n",
       "        vertical-align: top;\n",
       "    }\n",
       "\n",
       "    .dataframe thead th {\n",
       "        text-align: right;\n",
       "    }\n",
       "</style>\n",
       "<table border=\"1\" class=\"dataframe\">\n",
       "  <thead>\n",
       "    <tr style=\"text-align: right;\">\n",
       "      <th></th>\n",
       "      <th>date</th>\n",
       "      <th>reviewID</th>\n",
       "      <th>reviewerID</th>\n",
       "      <th>reviewContent</th>\n",
       "      <th>rating</th>\n",
       "      <th>usefulCount</th>\n",
       "      <th>coolCount</th>\n",
       "      <th>funnyCount</th>\n",
       "      <th>flagged</th>\n",
       "      <th>hotelID</th>\n",
       "    </tr>\n",
       "  </thead>\n",
       "  <tbody>\n",
       "    <tr>\n",
       "      <th>0</th>\n",
       "      <td>6/8/2011</td>\n",
       "      <td>MyNjnxzZVTPq</td>\n",
       "      <td>IFTr6_6NI4CgCVavIL9k5g</td>\n",
       "      <td>Let me begin by saying that there are two kind...</td>\n",
       "      <td>5</td>\n",
       "      <td>18</td>\n",
       "      <td>11</td>\n",
       "      <td>28</td>\n",
       "      <td>N</td>\n",
       "      <td>tQfLGoolUMu2J0igcWcoZg</td>\n",
       "    </tr>\n",
       "    <tr>\n",
       "      <th>1</th>\n",
       "      <td>8/30/2011</td>\n",
       "      <td>BdD7fsPqHQL73hwENEDT-Q</td>\n",
       "      <td>c_-hF15XgNhlyy_TqzmdaA</td>\n",
       "      <td>The only place inside the Loop that you can st...</td>\n",
       "      <td>3</td>\n",
       "      <td>0</td>\n",
       "      <td>3</td>\n",
       "      <td>4</td>\n",
       "      <td>N</td>\n",
       "      <td>tQfLGoolUMu2J0igcWcoZg</td>\n",
       "    </tr>\n",
       "    <tr>\n",
       "      <th>2</th>\n",
       "      <td>6/26/2009</td>\n",
       "      <td>BfhqiyfC</td>\n",
       "      <td>CiwZ6S5ZizAFL5gypf8tLA</td>\n",
       "      <td>I have walked by the Tokyo Hotel countless tim...</td>\n",
       "      <td>5</td>\n",
       "      <td>12</td>\n",
       "      <td>14</td>\n",
       "      <td>23</td>\n",
       "      <td>N</td>\n",
       "      <td>tQfLGoolUMu2J0igcWcoZg</td>\n",
       "    </tr>\n",
       "    <tr>\n",
       "      <th>3</th>\n",
       "      <td>9/16/2010</td>\n",
       "      <td>Ol</td>\n",
       "      <td>nf3q2h-kSQoZK2jBY92FOg</td>\n",
       "      <td>If you are considering staying here, watch thi...</td>\n",
       "      <td>1</td>\n",
       "      <td>8</td>\n",
       "      <td>2</td>\n",
       "      <td>6</td>\n",
       "      <td>N</td>\n",
       "      <td>tQfLGoolUMu2J0igcWcoZg</td>\n",
       "    </tr>\n",
       "    <tr>\n",
       "      <th>4</th>\n",
       "      <td>2/5/2010</td>\n",
       "      <td>i4HIAcNTjabdpG1K4F5Q2g</td>\n",
       "      <td>Sb3DJGdZ4Rq__CqxPbae-g</td>\n",
       "      <td>This place is disgusting, absolutely horrible,...</td>\n",
       "      <td>3</td>\n",
       "      <td>11</td>\n",
       "      <td>4</td>\n",
       "      <td>9</td>\n",
       "      <td>N</td>\n",
       "      <td>tQfLGoolUMu2J0igcWcoZg</td>\n",
       "    </tr>\n",
       "  </tbody>\n",
       "</table>\n",
       "</div>"
      ],
      "text/plain": [
       "        date                reviewID              reviewerID  \\\n",
       "0   6/8/2011            MyNjnxzZVTPq  IFTr6_6NI4CgCVavIL9k5g   \n",
       "1  8/30/2011  BdD7fsPqHQL73hwENEDT-Q  c_-hF15XgNhlyy_TqzmdaA   \n",
       "2  6/26/2009                BfhqiyfC  CiwZ6S5ZizAFL5gypf8tLA   \n",
       "3  9/16/2010                      Ol  nf3q2h-kSQoZK2jBY92FOg   \n",
       "4   2/5/2010  i4HIAcNTjabdpG1K4F5Q2g  Sb3DJGdZ4Rq__CqxPbae-g   \n",
       "\n",
       "                                       reviewContent  rating  usefulCount  \\\n",
       "0  Let me begin by saying that there are two kind...       5           18   \n",
       "1  The only place inside the Loop that you can st...       3            0   \n",
       "2  I have walked by the Tokyo Hotel countless tim...       5           12   \n",
       "3  If you are considering staying here, watch thi...       1            8   \n",
       "4  This place is disgusting, absolutely horrible,...       3           11   \n",
       "\n",
       "   coolCount  funnyCount flagged                 hotelID  \n",
       "0         11          28       N  tQfLGoolUMu2J0igcWcoZg  \n",
       "1          3           4       N  tQfLGoolUMu2J0igcWcoZg  \n",
       "2         14          23       N  tQfLGoolUMu2J0igcWcoZg  \n",
       "3          2           6       N  tQfLGoolUMu2J0igcWcoZg  \n",
       "4          4           9       N  tQfLGoolUMu2J0igcWcoZg  "
      ]
     },
     "execution_count": 9,
     "metadata": {},
     "output_type": "execute_result"
    }
   ],
   "source": [
    "review_df.head()"
   ]
  },
  {
   "cell_type": "code",
   "execution_count": 10,
   "metadata": {},
   "outputs": [],
   "source": [
    "# Taking hotel table to dataframe to extract categories\n",
    "hotel_df = pd.read_sql_query(\"Select * from hotel\", connection)"
   ]
  },
  {
   "cell_type": "code",
   "execution_count": 11,
   "metadata": {},
   "outputs": [
    {
     "data": {
      "text/html": [
       "<div>\n",
       "<style scoped>\n",
       "    .dataframe tbody tr th:only-of-type {\n",
       "        vertical-align: middle;\n",
       "    }\n",
       "\n",
       "    .dataframe tbody tr th {\n",
       "        vertical-align: top;\n",
       "    }\n",
       "\n",
       "    .dataframe thead th {\n",
       "        text-align: right;\n",
       "    }\n",
       "</style>\n",
       "<table border=\"1\" class=\"dataframe\">\n",
       "  <thead>\n",
       "    <tr style=\"text-align: right;\">\n",
       "      <th></th>\n",
       "      <th>hotelID</th>\n",
       "      <th>name</th>\n",
       "      <th>location</th>\n",
       "      <th>reviewCount</th>\n",
       "      <th>rating</th>\n",
       "      <th>categories</th>\n",
       "      <th>address</th>\n",
       "      <th>AcceptsCreditCards</th>\n",
       "      <th>PriceRange</th>\n",
       "      <th>WiFi</th>\n",
       "      <th>webSite</th>\n",
       "      <th>phoneNumber</th>\n",
       "      <th>filReviewCount</th>\n",
       "    </tr>\n",
       "  </thead>\n",
       "  <tbody>\n",
       "    <tr>\n",
       "      <th>0</th>\n",
       "      <td>pSLh_XyV_3QS1hNsBOGHiQ</td>\n",
       "      <td>Old Chicago Inn</td>\n",
       "      <td>Old Chicago Inn - Lakeview - Chicago, IL</td>\n",
       "      <td>1</td>\n",
       "      <td>3.0</td>\n",
       "      <td>Event Planning &amp; Services, Hotels, Hotels &amp; Tr...</td>\n",
       "      <td>3222 N Sheffield Ave (between Belmont Ave &amp; Sc...</td>\n",
       "      <td>Yes</td>\n",
       "      <td>$$</td>\n",
       "      <td>Free</td>\n",
       "      <td>http://www.oldchicagoinn.com</td>\n",
       "      <td>(773) 245-0423</td>\n",
       "      <td>5</td>\n",
       "    </tr>\n",
       "    <tr>\n",
       "      <th>1</th>\n",
       "      <td>tQfLGoolUMu2J0igcWcoZg</td>\n",
       "      <td>Tokyo Hotel</td>\n",
       "      <td>Tokyo Hotel - Near North Side - Chicago, IL</td>\n",
       "      <td>6</td>\n",
       "      <td>3.0</td>\n",
       "      <td>Event Planning &amp; Services, Hotels, Hotels &amp; Tr...</td>\n",
       "      <td>19 E Ohio St Chicago, IL 60611 Neighborhood: N...</td>\n",
       "      <td>No</td>\n",
       "      <td>$</td>\n",
       "      <td>No</td>\n",
       "      <td>http://tokyohotels.webs.com/</td>\n",
       "      <td>(312) 787-4900</td>\n",
       "      <td>5</td>\n",
       "    </tr>\n",
       "    <tr>\n",
       "      <th>2</th>\n",
       "      <td>33Xc1Bk_gkSY5xb2doQ7Ng</td>\n",
       "      <td>The Tremont Chicago Hotel at Magnificent Mile</td>\n",
       "      <td>The Tremont Chicago Hotel at Magnificent Mile ...</td>\n",
       "      <td>44</td>\n",
       "      <td>3.0</td>\n",
       "      <td>Event Planning &amp; Services, Hotels, Hotels &amp; Tr...</td>\n",
       "      <td>100 East Chestnut (between Ernst Ct &amp; Michigan...</td>\n",
       "      <td>Yes</td>\n",
       "      <td>$$</td>\n",
       "      <td>Free</td>\n",
       "      <td>http://www.tremontchicago.com</td>\n",
       "      <td>(312) 751-1900</td>\n",
       "      <td>5</td>\n",
       "    </tr>\n",
       "    <tr>\n",
       "      <th>3</th>\n",
       "      <td>2nnXespKBBNtDQTtrumNFg</td>\n",
       "      <td>Inn At Lincoln Park</td>\n",
       "      <td>Inn At Lincoln Park - Lincoln Park - Chicago, IL</td>\n",
       "      <td>20</td>\n",
       "      <td>2.0</td>\n",
       "      <td>Event Planning &amp; Services, Hotels, Hotels &amp; Tr...</td>\n",
       "      <td>601 W Diversey Pkwy (between Broadway St &amp; Cam...</td>\n",
       "      <td>Yes</td>\n",
       "      <td>$$$</td>\n",
       "      <td>Free</td>\n",
       "      <td>None</td>\n",
       "      <td>(773) 348-2810</td>\n",
       "      <td>5</td>\n",
       "    </tr>\n",
       "    <tr>\n",
       "      <th>4</th>\n",
       "      <td>SNuJYJewLhunxlhEezo15w</td>\n",
       "      <td>Carleton Hotel</td>\n",
       "      <td>Carleton Hotel - Oak Park, IL</td>\n",
       "      <td>31</td>\n",
       "      <td>4.0</td>\n",
       "      <td>Event Planning &amp; Services, Hotels, Hotels &amp; Tr...</td>\n",
       "      <td>1110 Pleasant St (between Maple Ave &amp; Marion S...</td>\n",
       "      <td>Yes</td>\n",
       "      <td>$$</td>\n",
       "      <td>Free</td>\n",
       "      <td>http://www.carletonhotel.com/</td>\n",
       "      <td>(708) 848-5000</td>\n",
       "      <td>5</td>\n",
       "    </tr>\n",
       "  </tbody>\n",
       "</table>\n",
       "</div>"
      ],
      "text/plain": [
       "                  hotelID                                           name  \\\n",
       "0  pSLh_XyV_3QS1hNsBOGHiQ                                Old Chicago Inn   \n",
       "1  tQfLGoolUMu2J0igcWcoZg                                    Tokyo Hotel   \n",
       "2  33Xc1Bk_gkSY5xb2doQ7Ng  The Tremont Chicago Hotel at Magnificent Mile   \n",
       "3  2nnXespKBBNtDQTtrumNFg                            Inn At Lincoln Park   \n",
       "4  SNuJYJewLhunxlhEezo15w                                 Carleton Hotel   \n",
       "\n",
       "                                            location  reviewCount  rating  \\\n",
       "0           Old Chicago Inn - Lakeview - Chicago, IL            1     3.0   \n",
       "1        Tokyo Hotel - Near North Side - Chicago, IL            6     3.0   \n",
       "2  The Tremont Chicago Hotel at Magnificent Mile ...           44     3.0   \n",
       "3   Inn At Lincoln Park - Lincoln Park - Chicago, IL           20     2.0   \n",
       "4                      Carleton Hotel - Oak Park, IL           31     4.0   \n",
       "\n",
       "                                          categories  \\\n",
       "0  Event Planning & Services, Hotels, Hotels & Tr...   \n",
       "1  Event Planning & Services, Hotels, Hotels & Tr...   \n",
       "2  Event Planning & Services, Hotels, Hotels & Tr...   \n",
       "3  Event Planning & Services, Hotels, Hotels & Tr...   \n",
       "4  Event Planning & Services, Hotels, Hotels & Tr...   \n",
       "\n",
       "                                             address AcceptsCreditCards  \\\n",
       "0  3222 N Sheffield Ave (between Belmont Ave & Sc...                Yes   \n",
       "1  19 E Ohio St Chicago, IL 60611 Neighborhood: N...                 No   \n",
       "2  100 East Chestnut (between Ernst Ct & Michigan...                Yes   \n",
       "3  601 W Diversey Pkwy (between Broadway St & Cam...                Yes   \n",
       "4  1110 Pleasant St (between Maple Ave & Marion S...                Yes   \n",
       "\n",
       "  PriceRange  WiFi                        webSite     phoneNumber  \\\n",
       "0         $$  Free   http://www.oldchicagoinn.com  (773) 245-0423   \n",
       "1          $    No   http://tokyohotels.webs.com/  (312) 787-4900   \n",
       "2         $$  Free  http://www.tremontchicago.com  (312) 751-1900   \n",
       "3        $$$  Free                           None  (773) 348-2810   \n",
       "4         $$  Free  http://www.carletonhotel.com/  (708) 848-5000   \n",
       "\n",
       "   filReviewCount  \n",
       "0               5  \n",
       "1               5  \n",
       "2               5  \n",
       "3               5  \n",
       "4               5  "
      ]
     },
     "execution_count": 11,
     "metadata": {},
     "output_type": "execute_result"
    }
   ],
   "source": [
    "hotel_df.head()"
   ]
  },
  {
   "cell_type": "code",
   "execution_count": 12,
   "metadata": {},
   "outputs": [],
   "source": [
    "# Joining review table and hotel table\n",
    "temp_df = review_df.merge(hotel_df, on=['hotelID'], how='left')"
   ]
  },
  {
   "cell_type": "code",
   "execution_count": 13,
   "metadata": {},
   "outputs": [],
   "source": [
    "df = temp_df[['reviewerID', 'hotelID', 'rating_x', 'categories']]\n",
    "df = df.rename(columns={'rating_x':'rating'})"
   ]
  },
  {
   "cell_type": "code",
   "execution_count": 14,
   "metadata": {},
   "outputs": [
    {
     "data": {
      "text/html": [
       "<div>\n",
       "<style scoped>\n",
       "    .dataframe tbody tr th:only-of-type {\n",
       "        vertical-align: middle;\n",
       "    }\n",
       "\n",
       "    .dataframe tbody tr th {\n",
       "        vertical-align: top;\n",
       "    }\n",
       "\n",
       "    .dataframe thead th {\n",
       "        text-align: right;\n",
       "    }\n",
       "</style>\n",
       "<table border=\"1\" class=\"dataframe\">\n",
       "  <thead>\n",
       "    <tr style=\"text-align: right;\">\n",
       "      <th></th>\n",
       "      <th>reviewerID</th>\n",
       "      <th>hotelID</th>\n",
       "      <th>rating</th>\n",
       "      <th>categories</th>\n",
       "    </tr>\n",
       "  </thead>\n",
       "  <tbody>\n",
       "    <tr>\n",
       "      <th>0</th>\n",
       "      <td>IFTr6_6NI4CgCVavIL9k5g</td>\n",
       "      <td>tQfLGoolUMu2J0igcWcoZg</td>\n",
       "      <td>5</td>\n",
       "      <td>Event Planning &amp; Services, Hotels, Hotels &amp; Tr...</td>\n",
       "    </tr>\n",
       "    <tr>\n",
       "      <th>1</th>\n",
       "      <td>c_-hF15XgNhlyy_TqzmdaA</td>\n",
       "      <td>tQfLGoolUMu2J0igcWcoZg</td>\n",
       "      <td>3</td>\n",
       "      <td>Event Planning &amp; Services, Hotels, Hotels &amp; Tr...</td>\n",
       "    </tr>\n",
       "    <tr>\n",
       "      <th>2</th>\n",
       "      <td>CiwZ6S5ZizAFL5gypf8tLA</td>\n",
       "      <td>tQfLGoolUMu2J0igcWcoZg</td>\n",
       "      <td>5</td>\n",
       "      <td>Event Planning &amp; Services, Hotels, Hotels &amp; Tr...</td>\n",
       "    </tr>\n",
       "    <tr>\n",
       "      <th>3</th>\n",
       "      <td>nf3q2h-kSQoZK2jBY92FOg</td>\n",
       "      <td>tQfLGoolUMu2J0igcWcoZg</td>\n",
       "      <td>1</td>\n",
       "      <td>Event Planning &amp; Services, Hotels, Hotels &amp; Tr...</td>\n",
       "    </tr>\n",
       "    <tr>\n",
       "      <th>4</th>\n",
       "      <td>Sb3DJGdZ4Rq__CqxPbae-g</td>\n",
       "      <td>tQfLGoolUMu2J0igcWcoZg</td>\n",
       "      <td>3</td>\n",
       "      <td>Event Planning &amp; Services, Hotels, Hotels &amp; Tr...</td>\n",
       "    </tr>\n",
       "  </tbody>\n",
       "</table>\n",
       "</div>"
      ],
      "text/plain": [
       "               reviewerID                 hotelID  rating  \\\n",
       "0  IFTr6_6NI4CgCVavIL9k5g  tQfLGoolUMu2J0igcWcoZg       5   \n",
       "1  c_-hF15XgNhlyy_TqzmdaA  tQfLGoolUMu2J0igcWcoZg       3   \n",
       "2  CiwZ6S5ZizAFL5gypf8tLA  tQfLGoolUMu2J0igcWcoZg       5   \n",
       "3  nf3q2h-kSQoZK2jBY92FOg  tQfLGoolUMu2J0igcWcoZg       1   \n",
       "4  Sb3DJGdZ4Rq__CqxPbae-g  tQfLGoolUMu2J0igcWcoZg       3   \n",
       "\n",
       "                                          categories  \n",
       "0  Event Planning & Services, Hotels, Hotels & Tr...  \n",
       "1  Event Planning & Services, Hotels, Hotels & Tr...  \n",
       "2  Event Planning & Services, Hotels, Hotels & Tr...  \n",
       "3  Event Planning & Services, Hotels, Hotels & Tr...  \n",
       "4  Event Planning & Services, Hotels, Hotels & Tr...  "
      ]
     },
     "execution_count": 14,
     "metadata": {},
     "output_type": "execute_result"
    }
   ],
   "source": [
    "df.head()"
   ]
  },
  {
   "cell_type": "code",
   "execution_count": 15,
   "metadata": {},
   "outputs": [
    {
     "data": {
      "text/plain": [
       "reviewerID    False\n",
       "hotelID       False\n",
       "rating        False\n",
       "categories     True\n",
       "dtype: bool"
      ]
     },
     "execution_count": 15,
     "metadata": {},
     "output_type": "execute_result"
    }
   ],
   "source": [
    "# Checking for na values\n",
    "df.isna().any()"
   ]
  },
  {
   "cell_type": "code",
   "execution_count": 16,
   "metadata": {},
   "outputs": [],
   "source": [
    "# Removing the nan values\n",
    "df = df.dropna()"
   ]
  },
  {
   "cell_type": "code",
   "execution_count": 17,
   "metadata": {},
   "outputs": [],
   "source": [
    "# Changing Reviewer and Hotel Id's to diffrent format for ease\n",
    "reviewer_Original_Value = {}\n",
    "for i, j in enumerate(df[reviewer_id].unique()):\n",
    "    reviewer_Original_Value[j] = \"reviewer\" + str(i + 1)\n",
    "\n",
    "hotel_Original_Value = {}\n",
    "for i, j in enumerate(df[hotel_id].unique()):\n",
    "    hotel_Original_Value[j] = \"hotel\" + str(i + 1)"
   ]
  },
  {
   "cell_type": "code",
   "execution_count": 18,
   "metadata": {},
   "outputs": [],
   "source": [
    "df[reviewer_id] = df[reviewer_id].apply(lambda x:reviewer_Original_Value[x])\n",
    "df[hotel_id] = df[hotel_id].apply(lambda x:hotel_Original_Value[x])"
   ]
  },
  {
   "cell_type": "code",
   "execution_count": 19,
   "metadata": {},
   "outputs": [
    {
     "data": {
      "text/html": [
       "<div>\n",
       "<style scoped>\n",
       "    .dataframe tbody tr th:only-of-type {\n",
       "        vertical-align: middle;\n",
       "    }\n",
       "\n",
       "    .dataframe tbody tr th {\n",
       "        vertical-align: top;\n",
       "    }\n",
       "\n",
       "    .dataframe thead th {\n",
       "        text-align: right;\n",
       "    }\n",
       "</style>\n",
       "<table border=\"1\" class=\"dataframe\">\n",
       "  <thead>\n",
       "    <tr style=\"text-align: right;\">\n",
       "      <th></th>\n",
       "      <th>reviewerID</th>\n",
       "      <th>hotelID</th>\n",
       "      <th>rating</th>\n",
       "      <th>categories</th>\n",
       "    </tr>\n",
       "  </thead>\n",
       "  <tbody>\n",
       "    <tr>\n",
       "      <th>0</th>\n",
       "      <td>reviewer1</td>\n",
       "      <td>hotel1</td>\n",
       "      <td>5</td>\n",
       "      <td>Event Planning &amp; Services, Hotels, Hotels &amp; Tr...</td>\n",
       "    </tr>\n",
       "    <tr>\n",
       "      <th>1</th>\n",
       "      <td>reviewer2</td>\n",
       "      <td>hotel1</td>\n",
       "      <td>3</td>\n",
       "      <td>Event Planning &amp; Services, Hotels, Hotels &amp; Tr...</td>\n",
       "    </tr>\n",
       "    <tr>\n",
       "      <th>2</th>\n",
       "      <td>reviewer3</td>\n",
       "      <td>hotel1</td>\n",
       "      <td>5</td>\n",
       "      <td>Event Planning &amp; Services, Hotels, Hotels &amp; Tr...</td>\n",
       "    </tr>\n",
       "    <tr>\n",
       "      <th>3</th>\n",
       "      <td>reviewer4</td>\n",
       "      <td>hotel1</td>\n",
       "      <td>1</td>\n",
       "      <td>Event Planning &amp; Services, Hotels, Hotels &amp; Tr...</td>\n",
       "    </tr>\n",
       "    <tr>\n",
       "      <th>4</th>\n",
       "      <td>reviewer5</td>\n",
       "      <td>hotel1</td>\n",
       "      <td>3</td>\n",
       "      <td>Event Planning &amp; Services, Hotels, Hotels &amp; Tr...</td>\n",
       "    </tr>\n",
       "  </tbody>\n",
       "</table>\n",
       "</div>"
      ],
      "text/plain": [
       "  reviewerID hotelID  rating  \\\n",
       "0  reviewer1  hotel1       5   \n",
       "1  reviewer2  hotel1       3   \n",
       "2  reviewer3  hotel1       5   \n",
       "3  reviewer4  hotel1       1   \n",
       "4  reviewer5  hotel1       3   \n",
       "\n",
       "                                          categories  \n",
       "0  Event Planning & Services, Hotels, Hotels & Tr...  \n",
       "1  Event Planning & Services, Hotels, Hotels & Tr...  \n",
       "2  Event Planning & Services, Hotels, Hotels & Tr...  \n",
       "3  Event Planning & Services, Hotels, Hotels & Tr...  \n",
       "4  Event Planning & Services, Hotels, Hotels & Tr...  "
      ]
     },
     "execution_count": 19,
     "metadata": {},
     "output_type": "execute_result"
    }
   ],
   "source": [
    "df.head()"
   ]
  },
  {
   "cell_type": "markdown",
   "metadata": {},
   "source": [
    "## Recommender System"
   ]
  },
  {
   "cell_type": "markdown",
   "metadata": {},
   "source": [
    "### Generating the Sparse Matrix"
   ]
  },
  {
   "cell_type": "code",
   "execution_count": 20,
   "metadata": {},
   "outputs": [],
   "source": [
    "# creates a hotel instance for each hotel and assign vaues to the instances\n",
    "hotel_mapping = create_hotel_map(df, hotel_id, category)"
   ]
  },
  {
   "cell_type": "code",
   "execution_count": 21,
   "metadata": {},
   "outputs": [],
   "source": [
    "# Converting reviewer and hotel columns into categories datatype \n",
    "df = convert_user_and_item_to_category_inplace(df, reviewer_id, hotel_id)"
   ]
  },
  {
   "cell_type": "code",
   "execution_count": 22,
   "metadata": {},
   "outputs": [
    {
     "name": "stdout",
     "output_type": "stream",
     "text": [
      "<class 'pandas.core.frame.DataFrame'>\n",
      "Int64Index: 688096 entries, 0 to 688328\n",
      "Data columns (total 4 columns):\n",
      " #   Column      Non-Null Count   Dtype   \n",
      "---  ------      --------------   -----   \n",
      " 0   reviewerID  688096 non-null  category\n",
      " 1   hotelID     688096 non-null  category\n",
      " 2   rating      688096 non-null  int64   \n",
      " 3   categories  688096 non-null  object  \n",
      "dtypes: category(2), int64(1), object(1)\n",
      "memory usage: 110.5 MB\n"
     ]
    }
   ],
   "source": [
    "df.info(memory_usage='deep')"
   ]
  },
  {
   "cell_type": "code",
   "execution_count": 23,
   "metadata": {},
   "outputs": [],
   "source": [
    "# Creating Reviewer Index mapping and Hotel index mapping\n",
    "reviewer_index_map, hotel_index_map = reviewer_hotel_index_mapping(df, reviewer_id, hotel_id)"
   ]
  },
  {
   "cell_type": "code",
   "execution_count": 24,
   "metadata": {},
   "outputs": [],
   "source": [
    "# Creating CSR Matrix for Reviewer and Hotel\n",
    "sparse_matrix = reviewer_hotel_csr_matrix(df, reviewer_id, hotel_id, rating)"
   ]
  },
  {
   "cell_type": "code",
   "execution_count": 25,
   "metadata": {},
   "outputs": [
    {
     "data": {
      "text/plain": [
       "<5132x283066 sparse matrix of type '<class 'numpy.float32'>'\n",
       "\twith 686591 stored elements in Compressed Sparse Row format>"
      ]
     },
     "execution_count": 25,
     "metadata": {},
     "output_type": "execute_result"
    }
   ],
   "source": [
    "sparse_matrix"
   ]
  },
  {
   "cell_type": "code",
   "execution_count": 26,
   "metadata": {},
   "outputs": [
    {
     "data": {
      "application/vnd.jupyter.widget-view+json": {
       "model_id": "6e683969ce3e448784a0dd7aba5ada40",
       "version_major": 2,
       "version_minor": 0
      },
      "text/plain": [
       "HBox(children=(HTML(value=''), FloatProgress(value=0.0), HTML(value='')))"
      ]
     },
     "metadata": {},
     "output_type": "display_data"
    },
    {
     "name": "stdout",
     "output_type": "stream",
     "text": [
      "\n"
     ]
    }
   ],
   "source": [
    "np.random.seed(1122)\n",
    "bpr = BayesianPersonalizedRanking(iterations=100)\n",
    "bpr.fit(sparse_matrix.T.tocsr())"
   ]
  },
  {
   "cell_type": "markdown",
   "metadata": {},
   "source": [
    "### Collaborative Filtering"
   ]
  },
  {
   "cell_type": "code",
   "execution_count": 27,
   "metadata": {},
   "outputs": [],
   "source": [
    "reviewer_id = 0\n",
    "initial_recommendations = {}\n",
    "temp = ['hotels_visited_id', 'hotels_visited', 'hotel_recommendations_id', 'hotel_recommendations']\n",
    "temp1 = recommendations(reviewer_id, sparse_matrix, hotel_mapping, hotel_index_map, 20)\n",
    "for i, j in zip(temp, temp1):\n",
    "    initial_recommendations[i] = j"
   ]
  },
  {
   "cell_type": "code",
   "execution_count": 28,
   "metadata": {},
   "outputs": [
    {
     "data": {
      "text/plain": [
       "[hotel2,\n",
       " hotel23,\n",
       " hotel14,\n",
       " hotel49,\n",
       " hotel11,\n",
       " hotel51,\n",
       " hotel35,\n",
       " hotel40,\n",
       " hotel5,\n",
       " hotel60,\n",
       " hotel38,\n",
       " hotel27,\n",
       " hotel10,\n",
       " hotel29,\n",
       " hotel57,\n",
       " hotel54,\n",
       " hotel33,\n",
       " hotel3,\n",
       " hotel21,\n",
       " hotel6]"
      ]
     },
     "execution_count": 28,
     "metadata": {},
     "output_type": "execute_result"
    }
   ],
   "source": [
    "initial_recommendations['hotel_recommendations']"
   ]
  },
  {
   "cell_type": "code",
   "execution_count": 56,
   "metadata": {},
   "outputs": [
    {
     "data": {
      "text/plain": [
       "[hotel1, hotel73, hotel74, hotel75, hotel76]"
      ]
     },
     "execution_count": 56,
     "metadata": {},
     "output_type": "execute_result"
    }
   ],
   "source": [
    "initial_recommendations['hotels_visited']"
   ]
  },
  {
   "cell_type": "code",
   "execution_count": 29,
   "metadata": {},
   "outputs": [],
   "source": [
    "hotels_visited_weights = category_weights(initial_recommendations['hotels_visited'])\n",
    "hotel_recommendations_weights = category_weights(initial_recommendations['hotel_recommendations'])"
   ]
  },
  {
   "cell_type": "code",
   "execution_count": 30,
   "metadata": {},
   "outputs": [
    {
     "data": {
      "text/plain": [
       "{'Event Planning & Services': 0.067,\n",
       " ' Hotels': 0.067,\n",
       " ' Hotels & Travel': 0.067,\n",
       " 'Restaurants': 0.167,\n",
       " ' Asian Fusion': 0.033,\n",
       " ' Food Stands': 0.033,\n",
       " ' Event Planning & Services': 0.033,\n",
       " ' Caterers': 0.033,\n",
       " ' METADATA': 0.207,\n",
       " 'Nightlife': 0.04,\n",
       " ' Bars': 0.04,\n",
       " ' Restaurants': 0.04,\n",
       " ' American (New)': 0.04,\n",
       " ' Mexican': 0.067,\n",
       " ' Pizza': 0.067}"
      ]
     },
     "execution_count": 30,
     "metadata": {},
     "output_type": "execute_result"
    }
   ],
   "source": [
    "# weights distribution of hotels visited by the reviewer\n",
    "hotels_visited_weights"
   ]
  },
  {
   "cell_type": "code",
   "execution_count": 31,
   "metadata": {},
   "outputs": [
    {
     "data": {
      "text/plain": [
       "{'Event Planning & Services': 0.317,\n",
       " ' Hotels': 0.317,\n",
       " ' Hotels & Travel': 0.317,\n",
       " ' Venues & Event Spaces': 0.038,\n",
       " ' Resorts': 0.013}"
      ]
     },
     "execution_count": 31,
     "metadata": {},
     "output_type": "execute_result"
    }
   ],
   "source": [
    "# weights distribution of hotels recommended to the reviewer\n",
    "hotel_recommendations_weights"
   ]
  },
  {
   "cell_type": "code",
   "execution_count": 32,
   "metadata": {},
   "outputs": [
    {
     "data": {
      "text/plain": [
       "4.866688721519053"
      ]
     },
     "execution_count": 32,
     "metadata": {},
     "output_type": "execute_result"
    }
   ],
   "source": [
    "# Calculating the kl-divergence\n",
    "kl_divergence(hotels_visited_weights, hotel_recommendations_weights, 0.01)"
   ]
  },
  {
   "cell_type": "markdown",
   "metadata": {},
   "source": [
    "### Calliberated Recommendations"
   ]
  },
  {
   "cell_type": "code",
   "execution_count": 33,
   "metadata": {},
   "outputs": [],
   "source": [
    "# Getting the hotels that are not visited\n",
    "hotels = create_hotel_list(bpr, reviewer_id, sparse_matrix, hotel_mapping, hotel_index_map)"
   ]
  },
  {
   "cell_type": "code",
   "execution_count": 34,
   "metadata": {},
   "outputs": [
    {
     "name": "stdout",
     "output_type": "stream",
     "text": [
      "Time taken to run 234.9246609210968\n"
     ]
    }
   ],
   "source": [
    "start = time.time()\n",
    "caliberated_recommendation_hotels = recommendation_caliberated(hotels, hotels_visited_weights, 20, lmbda=0.8, alpha=0.2)\n",
    "elapsed = time.time() - start\n",
    "print('Time taken to run', elapsed)"
   ]
  },
  {
   "cell_type": "code",
   "execution_count": 35,
   "metadata": {},
   "outputs": [
    {
     "data": {
      "text/plain": [
       "[hotel13206,\n",
       " hotel148622,\n",
       " hotel14697,\n",
       " hotel2,\n",
       " hotel9505,\n",
       " hotel26177,\n",
       " hotel14,\n",
       " hotel23,\n",
       " hotel1099,\n",
       " hotel49,\n",
       " hotel11,\n",
       " hotel51,\n",
       " hotel36,\n",
       " hotel6106,\n",
       " hotel35,\n",
       " hotel91516,\n",
       " hotel60,\n",
       " hotel27,\n",
       " hotel40,\n",
       " hotel10]"
      ]
     },
     "execution_count": 35,
     "metadata": {},
     "output_type": "execute_result"
    }
   ],
   "source": [
    "# Recommendations given to the user by calliberated system\n",
    "caliberated_recommendation_hotels"
   ]
  },
  {
   "cell_type": "code",
   "execution_count": 36,
   "metadata": {},
   "outputs": [],
   "source": [
    "caliberated_recommendation_hotels_distribution = category_weights(caliberated_recommendation_hotels)\n",
    "caliberated_recommendation_hotels_divergence = kl_divergence(hotels_visited_weights, caliberated_recommendation_hotels_distribution)\n",
    "reco_kl_div = kl_divergence(hotels_visited_weights, hotel_recommendations_weights)"
   ]
  },
  {
   "cell_type": "code",
   "execution_count": 37,
   "metadata": {},
   "outputs": [
    {
     "data": {
      "text/plain": [
       "4.866688721519053"
      ]
     },
     "execution_count": 37,
     "metadata": {},
     "output_type": "execute_result"
    }
   ],
   "source": [
    "reco_kl_div"
   ]
  },
  {
   "cell_type": "code",
   "execution_count": 38,
   "metadata": {},
   "outputs": [
    {
     "data": {
      "text/plain": [
       "{'Restaurants': 0.077,\n",
       " ' Event Planning & Services': 0.01,\n",
       " ' Hotels': 0.198,\n",
       " ' Hotels & Travel': 0.198,\n",
       " ' METADATA': 0.106,\n",
       " 'Event Planning & Services': 0.196,\n",
       " ' Caterers': 0.021,\n",
       " ' Restaurants': 0.017,\n",
       " ' Pizza': 0.042,\n",
       " ' American (New)': 0.017,\n",
       " ' Mexican': 0.017,\n",
       " 'Nightlife': 0.021,\n",
       " ' Bars': 0.021,\n",
       " ' Lounges': 0.013,\n",
       " ' Venues & Event Spaces': 0.013,\n",
       " ' Steakhouses': 0.017,\n",
       " ' Pubs': 0.008,\n",
       " ' Resorts': 0.013}"
      ]
     },
     "execution_count": 38,
     "metadata": {},
     "output_type": "execute_result"
    }
   ],
   "source": [
    "caliberated_recommendation_hotels_distribution"
   ]
  },
  {
   "cell_type": "code",
   "execution_count": 39,
   "metadata": {},
   "outputs": [
    {
     "data": {
      "text/plain": [
       "0.9298230188281962"
      ]
     },
     "execution_count": 39,
     "metadata": {},
     "output_type": "execute_result"
    }
   ],
   "source": [
    "caliberated_recommendation_hotels_divergence"
   ]
  },
  {
   "cell_type": "markdown",
   "metadata": {},
   "source": [
    "### Hyperparameter Tuning"
   ]
  },
  {
   "cell_type": "code",
   "execution_count": 40,
   "metadata": {},
   "outputs": [
    {
     "data": {
      "text/plain": [
       "[0.5, 0.55, 0.6, 0.65, 0.7, 0.75, 0.8, 0.85, 0.9, 0.95, 0.99]"
      ]
     },
     "execution_count": 40,
     "metadata": {},
     "output_type": "execute_result"
    }
   ],
   "source": [
    "lambda_list = np.round(np.arange(0.5, 0.99, 0.05), 2).tolist()\n",
    "lambda_list.append(0.99)\n",
    "alpha_list = np.round(np.arange(0.01, 0.5, 0.02), 2).tolist()\n",
    "lambda_list"
   ]
  },
  {
   "cell_type": "code",
   "execution_count": 41,
   "metadata": {},
   "outputs": [
    {
     "data": {
      "text/plain": [
       "[0.01,\n",
       " 0.03,\n",
       " 0.05,\n",
       " 0.07,\n",
       " 0.09,\n",
       " 0.11,\n",
       " 0.13,\n",
       " 0.15,\n",
       " 0.17,\n",
       " 0.19,\n",
       " 0.21,\n",
       " 0.23,\n",
       " 0.25,\n",
       " 0.27,\n",
       " 0.29,\n",
       " 0.31,\n",
       " 0.33,\n",
       " 0.35,\n",
       " 0.37,\n",
       " 0.39,\n",
       " 0.41,\n",
       " 0.43,\n",
       " 0.45,\n",
       " 0.47,\n",
       " 0.49]"
      ]
     },
     "execution_count": 41,
     "metadata": {},
     "output_type": "execute_result"
    }
   ],
   "source": [
    "alpha_list"
   ]
  },
  {
   "cell_type": "code",
   "execution_count": 42,
   "metadata": {},
   "outputs": [],
   "source": [
    "# Calling the tuning function\n",
    "parameter_tuning_dict = parameter_tuning(alpha_list, lambda_list)"
   ]
  },
  {
   "cell_type": "code",
   "execution_count": 43,
   "metadata": {},
   "outputs": [],
   "source": [
    "kl_values = {}\n",
    "for i in parameter_tuning_dict:\n",
    "    kl_values[i] = parameter_tuning_dict[i].kl_divergence"
   ]
  },
  {
   "cell_type": "markdown",
   "metadata": {},
   "source": [
    "### Obtaining and Arranging Results"
   ]
  },
  {
   "cell_type": "code",
   "execution_count": 44,
   "metadata": {},
   "outputs": [],
   "source": [
    "kl_df = pd.DataFrame(columns=['alpha', 'lambda', 'kl_divergence', 'recommendations', 'time'])"
   ]
  },
  {
   "cell_type": "code",
   "execution_count": 45,
   "metadata": {},
   "outputs": [],
   "source": [
    "for i, j in enumerate(parameter_tuning_dict):\n",
    "    kl_df.loc[i, 'alpha'] = parameter_tuning_dict[j].alpha\n",
    "    kl_df.loc[i, 'lambda'] = parameter_tuning_dict[j].lmbda\n",
    "    kl_df.loc[i, 'kl_divergence'] = parameter_tuning_dict[j].kl_divergence\n",
    "    kl_df.loc[i, 'recommendations'] = parameter_tuning_dict[j].recommendations\n",
    "    kl_df.loc[i, 'time'] = parameter_tuning_dict[j].time"
   ]
  },
  {
   "cell_type": "code",
   "execution_count": 46,
   "metadata": {},
   "outputs": [
    {
     "data": {
      "text/html": [
       "<div>\n",
       "<style scoped>\n",
       "    .dataframe tbody tr th:only-of-type {\n",
       "        vertical-align: middle;\n",
       "    }\n",
       "\n",
       "    .dataframe tbody tr th {\n",
       "        vertical-align: top;\n",
       "    }\n",
       "\n",
       "    .dataframe thead th {\n",
       "        text-align: right;\n",
       "    }\n",
       "</style>\n",
       "<table border=\"1\" class=\"dataframe\">\n",
       "  <thead>\n",
       "    <tr style=\"text-align: right;\">\n",
       "      <th></th>\n",
       "      <th>alpha</th>\n",
       "      <th>lambda</th>\n",
       "      <th>kl_divergence</th>\n",
       "      <th>recommendations</th>\n",
       "      <th>time</th>\n",
       "    </tr>\n",
       "  </thead>\n",
       "  <tbody>\n",
       "    <tr>\n",
       "      <th>0</th>\n",
       "      <td>0.01</td>\n",
       "      <td>0.5</td>\n",
       "      <td>0.756074</td>\n",
       "      <td>[hotel13206, hotel148622, hotel14697, hotel950...</td>\n",
       "      <td>103.485</td>\n",
       "    </tr>\n",
       "    <tr>\n",
       "      <th>1</th>\n",
       "      <td>0.03</td>\n",
       "      <td>0.5</td>\n",
       "      <td>0.756074</td>\n",
       "      <td>[hotel13206, hotel148622, hotel14697, hotel950...</td>\n",
       "      <td>102.121</td>\n",
       "    </tr>\n",
       "    <tr>\n",
       "      <th>2</th>\n",
       "      <td>0.05</td>\n",
       "      <td>0.5</td>\n",
       "      <td>1.03292</td>\n",
       "      <td>[hotel13206, hotel3438, hotel2, hotel14697, ho...</td>\n",
       "      <td>101.439</td>\n",
       "    </tr>\n",
       "    <tr>\n",
       "      <th>3</th>\n",
       "      <td>0.07</td>\n",
       "      <td>0.5</td>\n",
       "      <td>1.03292</td>\n",
       "      <td>[hotel13206, hotel3438, hotel2, hotel14697, ho...</td>\n",
       "      <td>102.011</td>\n",
       "    </tr>\n",
       "    <tr>\n",
       "      <th>4</th>\n",
       "      <td>0.09</td>\n",
       "      <td>0.5</td>\n",
       "      <td>1.03292</td>\n",
       "      <td>[hotel13206, hotel3438, hotel2, hotel14697, ho...</td>\n",
       "      <td>103</td>\n",
       "    </tr>\n",
       "    <tr>\n",
       "      <th>...</th>\n",
       "      <td>...</td>\n",
       "      <td>...</td>\n",
       "      <td>...</td>\n",
       "      <td>...</td>\n",
       "      <td>...</td>\n",
       "    </tr>\n",
       "    <tr>\n",
       "      <th>270</th>\n",
       "      <td>0.41</td>\n",
       "      <td>0.99</td>\n",
       "      <td>0.0295976</td>\n",
       "      <td>[hotel122734, hotel177679, hotel26177, hotel16...</td>\n",
       "      <td>100.787</td>\n",
       "    </tr>\n",
       "    <tr>\n",
       "      <th>271</th>\n",
       "      <td>0.43</td>\n",
       "      <td>0.99</td>\n",
       "      <td>0.0295976</td>\n",
       "      <td>[hotel122734, hotel177679, hotel26177, hotel16...</td>\n",
       "      <td>101.725</td>\n",
       "    </tr>\n",
       "    <tr>\n",
       "      <th>272</th>\n",
       "      <td>0.45</td>\n",
       "      <td>0.99</td>\n",
       "      <td>0.0295976</td>\n",
       "      <td>[hotel122734, hotel177679, hotel26177, hotel16...</td>\n",
       "      <td>103.716</td>\n",
       "    </tr>\n",
       "    <tr>\n",
       "      <th>273</th>\n",
       "      <td>0.47</td>\n",
       "      <td>0.99</td>\n",
       "      <td>0.0295976</td>\n",
       "      <td>[hotel122734, hotel177679, hotel26177, hotel16...</td>\n",
       "      <td>104.872</td>\n",
       "    </tr>\n",
       "    <tr>\n",
       "      <th>274</th>\n",
       "      <td>0.49</td>\n",
       "      <td>0.99</td>\n",
       "      <td>0.0295976</td>\n",
       "      <td>[hotel122734, hotel177679, hotel26177, hotel16...</td>\n",
       "      <td>101.411</td>\n",
       "    </tr>\n",
       "  </tbody>\n",
       "</table>\n",
       "<p>275 rows × 5 columns</p>\n",
       "</div>"
      ],
      "text/plain": [
       "    alpha lambda kl_divergence  \\\n",
       "0    0.01    0.5      0.756074   \n",
       "1    0.03    0.5      0.756074   \n",
       "2    0.05    0.5       1.03292   \n",
       "3    0.07    0.5       1.03292   \n",
       "4    0.09    0.5       1.03292   \n",
       "..    ...    ...           ...   \n",
       "270  0.41   0.99     0.0295976   \n",
       "271  0.43   0.99     0.0295976   \n",
       "272  0.45   0.99     0.0295976   \n",
       "273  0.47   0.99     0.0295976   \n",
       "274  0.49   0.99     0.0295976   \n",
       "\n",
       "                                       recommendations     time  \n",
       "0    [hotel13206, hotel148622, hotel14697, hotel950...  103.485  \n",
       "1    [hotel13206, hotel148622, hotel14697, hotel950...  102.121  \n",
       "2    [hotel13206, hotel3438, hotel2, hotel14697, ho...  101.439  \n",
       "3    [hotel13206, hotel3438, hotel2, hotel14697, ho...  102.011  \n",
       "4    [hotel13206, hotel3438, hotel2, hotel14697, ho...      103  \n",
       "..                                                 ...      ...  \n",
       "270  [hotel122734, hotel177679, hotel26177, hotel16...  100.787  \n",
       "271  [hotel122734, hotel177679, hotel26177, hotel16...  101.725  \n",
       "272  [hotel122734, hotel177679, hotel26177, hotel16...  103.716  \n",
       "273  [hotel122734, hotel177679, hotel26177, hotel16...  104.872  \n",
       "274  [hotel122734, hotel177679, hotel26177, hotel16...  101.411  \n",
       "\n",
       "[275 rows x 5 columns]"
      ]
     },
     "execution_count": 46,
     "metadata": {},
     "output_type": "execute_result"
    }
   ],
   "source": [
    "kl_df"
   ]
  },
  {
   "cell_type": "code",
   "execution_count": 47,
   "metadata": {},
   "outputs": [],
   "source": [
    "kl_df.to_csv(\"divergence.csv\")"
   ]
  },
  {
   "cell_type": "markdown",
   "metadata": {},
   "source": [
    "### Comparing Results to get Output"
   ]
  },
  {
   "cell_type": "code",
   "execution_count": 48,
   "metadata": {},
   "outputs": [],
   "source": [
    "results_alpha = pd.DataFrame(columns=['alpha', 'divergence'])\n",
    "results_lambda = pd.DataFrame(columns=['lambda', 'divergence'])\n",
    "results_alpha['alpha'] = kl_df['alpha'].unique()\n",
    "for i in range(len(results_alpha)):\n",
    "    results_alpha.loc[i, 'divergence'] = kl_df.loc[kl_df['alpha'] == results_alpha.loc[i, 'alpha'], 'kl_divergence'].mean()\n",
    "results_lambda['lambda'] = kl_df['lambda'].unique()\n",
    "for i in range(len(results_lambda)):\n",
    "    results_lambda.loc[i, 'divergence'] = kl_df.loc[kl_df['lambda'] == results_lambda.loc[i, 'lambda'], 'kl_divergence'].mean()"
   ]
  },
  {
   "cell_type": "code",
   "execution_count": 49,
   "metadata": {},
   "outputs": [
    {
     "data": {
      "text/plain": [
       "Text(0, 0.5, 'Divergence')"
      ]
     },
     "execution_count": 49,
     "metadata": {},
     "output_type": "execute_result"
    },
    {
     "data": {
      "image/png": "[encoded data removed]",
      "text/plain": [
       "<Figure size 432x288 with 1 Axes>"
      ]
     },
     "metadata": {
      "needs_background": "light"
     },
     "output_type": "display_data"
    }
   ],
   "source": [
    "fig_1 = plt.figure('Alpha vs Divergence')\n",
    "ax = fig_1.add_subplot(1,1,1)\n",
    "ax.plot(results_alpha['alpha'], results_alpha['divergence'])\n",
    "ax.set_title('Alpha vs Divergence')\n",
    "ax.set_xlabel('Alpha')\n",
    "ax.set_ylabel('Divergence')"
   ]
  },
  {
   "cell_type": "code",
   "execution_count": 50,
   "metadata": {},
   "outputs": [
    {
     "data": {
      "text/plain": [
       "Text(0, 0.5, 'Divergence')"
      ]
     },
     "execution_count": 50,
     "metadata": {},
     "output_type": "execute_result"
    },
    {
     "data": {
      "image/png": "[encoded data removed]",
      "text/plain": [
       "<Figure size 432x288 with 1 Axes>"
      ]
     },
     "metadata": {
      "needs_background": "light"
     },
     "output_type": "display_data"
    }
   ],
   "source": [
    "fig_2 = plt.figure('Lambda vs Divergence')\n",
    "ax = fig_2.add_subplot(1,1,1)\n",
    "ax.plot(results_lambda['lambda'], results_lambda['divergence'])\n",
    "ax.set_title('Lambda vs Divergence')\n",
    "ax.set_xlabel('Lambda')\n",
    "ax.set_ylabel('Divergence')"
   ]
  },
  {
   "cell_type": "code",
   "execution_count": 51,
   "metadata": {},
   "outputs": [
    {
     "name": "stdout",
     "output_type": "stream",
     "text": [
      "Time taken to run 238.3931920528412\n"
     ]
    }
   ],
   "source": [
    "start = time.time()\n",
    "caliberated_recommendation_hotels = recommendation_caliberated(hotels, hotels_visited_weights, 20, lmbda=0.99, alpha=0.01)\n",
    "elapsed = time.time() - start\n",
    "print('Time taken to run', elapsed)"
   ]
  },
  {
   "cell_type": "code",
   "execution_count": 52,
   "metadata": {},
   "outputs": [
    {
     "data": {
      "text/plain": [
       "[hotel122734,\n",
       " hotel177679,\n",
       " hotel56085,\n",
       " hotel119583,\n",
       " hotel3671,\n",
       " hotel93269,\n",
       " hotel26461,\n",
       " hotel161750,\n",
       " hotel128880,\n",
       " hotel36,\n",
       " hotel101237,\n",
       " hotel26177,\n",
       " hotel141310,\n",
       " hotel2,\n",
       " hotel133699,\n",
       " hotel14697,\n",
       " hotel123053,\n",
       " hotel1099,\n",
       " hotel14,\n",
       " hotel42924]"
      ]
     },
     "execution_count": 52,
     "metadata": {},
     "output_type": "execute_result"
    }
   ],
   "source": [
    "caliberated_recommendation_hotels"
   ]
  },
  {
   "cell_type": "code",
   "execution_count": 53,
   "metadata": {},
   "outputs": [],
   "source": [
    "caliberated_recommendation_hotels_distribution = category_weights(caliberated_recommendation_hotels)\n",
    "caliberated_recommendation_hotels_divergence = kl_divergence(hotels_visited_weights, caliberated_recommendation_hotels_distribution)\n",
    "reco_kl_div = kl_divergence(hotels_visited_weights, hotel_recommendations_weights)"
   ]
  },
  {
   "cell_type": "code",
   "execution_count": 54,
   "metadata": {},
   "outputs": [
    {
     "data": {
      "text/plain": [
       "{'Restaurants': 0.16,\n",
       " ' American (New)': 0.035,\n",
       " ' Event Planning & Services': 0.027,\n",
       " ' Hotels': 0.075,\n",
       " ' Hotels & Travel': 0.075,\n",
       " ' METADATA': 0.219,\n",
       " 'Event Planning & Services': 0.067,\n",
       " ' Caterers': 0.031,\n",
       " ' Restaurants': 0.038,\n",
       " ' Food Stands': 0.025,\n",
       " ' Mexican': 0.077,\n",
       " 'Nightlife': 0.038,\n",
       " ' Bars': 0.038,\n",
       " ' Pizza': 0.068,\n",
       " ' Asian Fusion': 0.027}"
      ]
     },
     "execution_count": 54,
     "metadata": {},
     "output_type": "execute_result"
    }
   ],
   "source": [
    "caliberated_recommendation_hotels_distribution"
   ]
  },
  {
   "cell_type": "code",
   "execution_count": 58,
   "metadata": {},
   "outputs": [
    {
     "name": "stdout",
     "output_type": "stream",
     "text": [
      "The best value of kl-divergence can be obtained by the lowest value of alpha (0.01) and the highest value of lambda (0.99) and the value is 0.008527384953442843\n"
     ]
    }
   ],
   "source": [
    "print(f'The best value of kl-divergence can be obtained by the lowest value of alpha ({0.01}) and the highest value of lambda ({0.99}) and the value is {caliberated_recommendation_hotels_divergence}')"
   ]
  },
  {
   "cell_type": "code",
   "execution_count": null,
   "metadata": {},
   "outputs": [],
   "source": []
  }
 ],
 "metadata": {
  "kernelspec": {
   "display_name": "Python 3",
   "language": "python",
   "name": "python3"
  },
  "language_info": {
   "codemirror_mode": {
    "name": "ipython",
    "version": 3
   },
   "file_extension": ".py",
   "mimetype": "text/x-python",
   "name": "python",
   "nbconvert_exporter": "python",
   "pygments_lexer": "ipython3",
   "version": "3.8.0"
  }
 },
 "nbformat": 4,
 "nbformat_minor": 4
}
